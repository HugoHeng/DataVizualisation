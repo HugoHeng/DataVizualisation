{
 "cells": [
  {
   "cell_type": "code",
   "execution_count": 199,
   "metadata": {},
   "outputs": [],
   "source": [
    "import streamlit as st\n",
    "import pandas as pd\n",
    "import matplotlib.pyplot as plt\n",
    "import seaborn as sns\n",
    "import folium\n",
    "import altair as alt\n",
    "import plotly.express as px\n",
    "%matplotlib inline\n"
   ]
  },
  {
   "cell_type": "code",
   "execution_count": 200,
   "metadata": {},
   "outputs": [],
   "source": [
    "data = pd.read_csv('fr-en-ecoles-effectifs-nb_classes.csv', delimiter = ';')"
   ]
  },
  {
   "cell_type": "code",
   "execution_count": 201,
   "metadata": {},
   "outputs": [
    {
     "data": {
      "text/plain": [
       "Index(['rentree_scolaire', 'region_academique', 'academie', 'departement',\n",
       "       'commune', 'numero_ecole', 'denomination_principale', 'patronyme',\n",
       "       'secteur', 'rep', 'rep_plus', 'nombre_total_classes',\n",
       "       'nombre_total_eleves', 'nombre_eleves_preelementaire_hors_ulis',\n",
       "       'nombre_eleves_elementaire_hors_ulis', 'nombre_eleves_ulis',\n",
       "       'Eleve de CP', 'Eleve de CE1', 'Eleve de CE2', 'Eleve de CM1',\n",
       "       'Eleve de CM2', 'tri', 'code_postal'],\n",
       "      dtype='object')"
      ]
     },
     "execution_count": 201,
     "metadata": {},
     "output_type": "execute_result"
    }
   ],
   "source": [
    "data.columns"
   ]
  },
  {
   "cell_type": "code",
   "execution_count": 202,
   "metadata": {},
   "outputs": [],
   "source": [
    "data.rename(columns = {\n",
    "    \"nombre_eleves_preelementaire_hors_ulis\" : \"Eleve Maternelle Total\",\n",
    "    \"nombre_eleves_ulis\" : \"Eleve en Handicap\",\n",
    "    \"nombre_eleves_elementaire_hors_ulis\" : \"Eleve Élémentaire Total\", \n",
    "    \"nombre_eleves_cp_hors_ulis\" : \"Eleve de CP\", \n",
    "    \"nombre_eleves_ce1_hors_ulis\" : \"Eleve de CE1\", \n",
    "    \"nombre_eleves_ce2_hors_ulis\" : \"Eleve de CE2\",\n",
    "    \"nombre_eleves_cm1_hors_ulis\" : \"Eleve de CM1\",\n",
    "    \"nombre_eleves_cm2_hors_ulis\" : \"Eleve de CM2\"}, inplace = True)"
   ]
  },
  {
   "cell_type": "code",
   "execution_count": 203,
   "metadata": {},
   "outputs": [
    {
     "name": "stdout",
     "output_type": "stream",
     "text": [
      "0    56\n",
      "Name: Eleve Maternelle Total, dtype: int64\n"
     ]
    }
   ],
   "source": [
    "print(data['Eleve Maternelle Total'].head(1))"
   ]
  },
  {
   "cell_type": "code",
   "execution_count": 204,
   "metadata": {},
   "outputs": [
    {
     "data": {
      "text/plain": [
       "Index(['rentree_scolaire', 'region_academique', 'academie', 'departement',\n",
       "       'commune', 'numero_ecole', 'denomination_principale', 'patronyme',\n",
       "       'secteur', 'rep', 'rep_plus', 'nombre_total_classes',\n",
       "       'nombre_total_eleves', 'Eleve Maternelle Total',\n",
       "       'Eleve Élémentaire Total', 'Eleve en Handicap', 'Eleve de CP',\n",
       "       'Eleve de CE1', 'Eleve de CE2', 'Eleve de CM1', 'Eleve de CM2', 'tri',\n",
       "       'code_postal'],\n",
       "      dtype='object')"
      ]
     },
     "execution_count": 204,
     "metadata": {},
     "output_type": "execute_result"
    }
   ],
   "source": [
    "data.columns"
   ]
  },
  {
   "cell_type": "code",
   "execution_count": 205,
   "metadata": {},
   "outputs": [
    {
     "name": "stdout",
     "output_type": "stream",
     "text": [
      "<class 'pandas.core.frame.DataFrame'>\n",
      "RangeIndex: 242689 entries, 0 to 242688\n",
      "Data columns (total 23 columns):\n",
      " #   Column                   Non-Null Count   Dtype \n",
      "---  ------                   --------------   ----- \n",
      " 0   rentree_scolaire         242689 non-null  int64 \n",
      " 1   region_academique        242689 non-null  object\n",
      " 2   academie                 242689 non-null  object\n",
      " 3   departement              242689 non-null  object\n",
      " 4   commune                  242689 non-null  object\n",
      " 5   numero_ecole             242689 non-null  object\n",
      " 6   denomination_principale  242688 non-null  object\n",
      " 7   patronyme                185587 non-null  object\n",
      " 8   secteur                  242689 non-null  object\n",
      " 9   rep                      242689 non-null  int64 \n",
      " 10  rep_plus                 242689 non-null  int64 \n",
      " 11  nombre_total_classes     242689 non-null  int64 \n",
      " 12  nombre_total_eleves      242689 non-null  int64 \n",
      " 13  Eleve Maternelle Total   242689 non-null  int64 \n",
      " 14  Eleve Élémentaire Total  242689 non-null  int64 \n",
      " 15  Eleve en Handicap        242689 non-null  int64 \n",
      " 16  Eleve de CP              242689 non-null  int64 \n",
      " 17  Eleve de CE1             242689 non-null  int64 \n",
      " 18  Eleve de CE2             242689 non-null  int64 \n",
      " 19  Eleve de CM1             242689 non-null  int64 \n",
      " 20  Eleve de CM2             242689 non-null  int64 \n",
      " 21  tri                      242689 non-null  object\n",
      " 22  code_postal              242689 non-null  int64 \n",
      "dtypes: int64(14), object(9)\n",
      "memory usage: 42.6+ MB\n"
     ]
    }
   ],
   "source": [
    "data.info()"
   ]
  },
  {
   "cell_type": "code",
   "execution_count": 206,
   "metadata": {},
   "outputs": [
    {
     "data": {
      "text/html": [
       "<div>\n",
       "<style scoped>\n",
       "    .dataframe tbody tr th:only-of-type {\n",
       "        vertical-align: middle;\n",
       "    }\n",
       "\n",
       "    .dataframe tbody tr th {\n",
       "        vertical-align: top;\n",
       "    }\n",
       "\n",
       "    .dataframe thead th {\n",
       "        text-align: right;\n",
       "    }\n",
       "</style>\n",
       "<table border=\"1\" class=\"dataframe\">\n",
       "  <thead>\n",
       "    <tr style=\"text-align: right;\">\n",
       "      <th></th>\n",
       "      <th>departement</th>\n",
       "      <th>rentree_scolaire</th>\n",
       "      <th>nombre_total_eleves</th>\n",
       "      <th>Eleve Élémentaire Total</th>\n",
       "      <th>Eleve Maternelle Total</th>\n",
       "      <th>Eleve en Handicap</th>\n",
       "      <th>index</th>\n",
       "      <th>code_departement</th>\n",
       "    </tr>\n",
       "  </thead>\n",
       "  <tbody>\n",
       "    <tr>\n",
       "      <th>0</th>\n",
       "      <td>AIN</td>\n",
       "      <td>2019</td>\n",
       "      <td>69754</td>\n",
       "      <td>44024</td>\n",
       "      <td>25216</td>\n",
       "      <td>514</td>\n",
       "      <td>3919</td>\n",
       "      <td>01</td>\n",
       "    </tr>\n",
       "    <tr>\n",
       "      <th>1</th>\n",
       "      <td>AIN</td>\n",
       "      <td>2020</td>\n",
       "      <td>69287</td>\n",
       "      <td>44032</td>\n",
       "      <td>24701</td>\n",
       "      <td>554</td>\n",
       "      <td>3919</td>\n",
       "      <td>01</td>\n",
       "    </tr>\n",
       "    <tr>\n",
       "      <th>2</th>\n",
       "      <td>AIN</td>\n",
       "      <td>2021</td>\n",
       "      <td>69142</td>\n",
       "      <td>43745</td>\n",
       "      <td>24823</td>\n",
       "      <td>574</td>\n",
       "      <td>3919</td>\n",
       "      <td>01</td>\n",
       "    </tr>\n",
       "    <tr>\n",
       "      <th>3</th>\n",
       "      <td>AIN</td>\n",
       "      <td>2022</td>\n",
       "      <td>69078</td>\n",
       "      <td>43735</td>\n",
       "      <td>24724</td>\n",
       "      <td>619</td>\n",
       "      <td>3919</td>\n",
       "      <td>01</td>\n",
       "    </tr>\n",
       "    <tr>\n",
       "      <th>4</th>\n",
       "      <td>AIN</td>\n",
       "      <td>2023</td>\n",
       "      <td>68829</td>\n",
       "      <td>43448</td>\n",
       "      <td>24706</td>\n",
       "      <td>675</td>\n",
       "      <td>3919</td>\n",
       "      <td>01</td>\n",
       "    </tr>\n",
       "    <tr>\n",
       "      <th>...</th>\n",
       "      <td>...</td>\n",
       "      <td>...</td>\n",
       "      <td>...</td>\n",
       "      <td>...</td>\n",
       "      <td>...</td>\n",
       "      <td>...</td>\n",
       "      <td>...</td>\n",
       "      <td>...</td>\n",
       "    </tr>\n",
       "    <tr>\n",
       "      <th>535</th>\n",
       "      <td>YVELINES</td>\n",
       "      <td>2019</td>\n",
       "      <td>163791</td>\n",
       "      <td>102923</td>\n",
       "      <td>60143</td>\n",
       "      <td>725</td>\n",
       "      <td>28710</td>\n",
       "      <td>78</td>\n",
       "    </tr>\n",
       "    <tr>\n",
       "      <th>536</th>\n",
       "      <td>YVELINES</td>\n",
       "      <td>2020</td>\n",
       "      <td>162852</td>\n",
       "      <td>102686</td>\n",
       "      <td>59411</td>\n",
       "      <td>755</td>\n",
       "      <td>28710</td>\n",
       "      <td>78</td>\n",
       "    </tr>\n",
       "    <tr>\n",
       "      <th>537</th>\n",
       "      <td>YVELINES</td>\n",
       "      <td>2021</td>\n",
       "      <td>161318</td>\n",
       "      <td>101875</td>\n",
       "      <td>58647</td>\n",
       "      <td>796</td>\n",
       "      <td>28710</td>\n",
       "      <td>78</td>\n",
       "    </tr>\n",
       "    <tr>\n",
       "      <th>538</th>\n",
       "      <td>YVELINES</td>\n",
       "      <td>2022</td>\n",
       "      <td>160640</td>\n",
       "      <td>101620</td>\n",
       "      <td>58180</td>\n",
       "      <td>840</td>\n",
       "      <td>28710</td>\n",
       "      <td>78</td>\n",
       "    </tr>\n",
       "    <tr>\n",
       "      <th>539</th>\n",
       "      <td>YVELINES</td>\n",
       "      <td>2023</td>\n",
       "      <td>159372</td>\n",
       "      <td>100829</td>\n",
       "      <td>57672</td>\n",
       "      <td>871</td>\n",
       "      <td>28710</td>\n",
       "      <td>78</td>\n",
       "    </tr>\n",
       "  </tbody>\n",
       "</table>\n",
       "<p>540 rows × 8 columns</p>\n",
       "</div>"
      ],
      "text/plain": [
       "    departement rentree_scolaire  nombre_total_eleves  \\\n",
       "0           AIN             2019                69754   \n",
       "1           AIN             2020                69287   \n",
       "2           AIN             2021                69142   \n",
       "3           AIN             2022                69078   \n",
       "4           AIN             2023                68829   \n",
       "..          ...              ...                  ...   \n",
       "535    YVELINES             2019               163791   \n",
       "536    YVELINES             2020               162852   \n",
       "537    YVELINES             2021               161318   \n",
       "538    YVELINES             2022               160640   \n",
       "539    YVELINES             2023               159372   \n",
       "\n",
       "     Eleve Élémentaire Total  Eleve Maternelle Total  Eleve en Handicap  \\\n",
       "0                      44024                   25216                514   \n",
       "1                      44032                   24701                554   \n",
       "2                      43745                   24823                574   \n",
       "3                      43735                   24724                619   \n",
       "4                      43448                   24706                675   \n",
       "..                       ...                     ...                ...   \n",
       "535                   102923                   60143                725   \n",
       "536                   102686                   59411                755   \n",
       "537                   101875                   58647                796   \n",
       "538                   101620                   58180                840   \n",
       "539                   100829                   57672                871   \n",
       "\n",
       "     index code_departement  \n",
       "0     3919               01  \n",
       "1     3919               01  \n",
       "2     3919               01  \n",
       "3     3919               01  \n",
       "4     3919               01  \n",
       "..     ...              ...  \n",
       "535  28710               78  \n",
       "536  28710               78  \n",
       "537  28710               78  \n",
       "538  28710               78  \n",
       "539  28710               78  \n",
       "\n",
       "[540 rows x 8 columns]"
      ]
     },
     "execution_count": 206,
     "metadata": {},
     "output_type": "execute_result"
    }
   ],
   "source": [
    "data_eleve = data.groupby('rentree_scolaire')[['Eleve de CP','Eleve de CE1','Eleve de CE2','Eleve de CM1','Eleve de CM2']].sum().reset_index()\n",
    "data_departement = data.groupby(['departement', 'rentree_scolaire'])[['nombre_total_eleves','Eleve Élémentaire Total', 'Eleve Maternelle Total', 'Eleve en Handicap']].sum().reset_index()\n",
    "data_region = data.groupby(['region_academique', 'rentree_scolaire'])[['nombre_total_eleves', 'Eleve Élémentaire Total', 'Eleve Maternelle Total', 'Eleve en Handicap', 'Eleve de CP','Eleve de CE1','Eleve de CE2','Eleve de CM1','Eleve de CM2']].sum().reset_index()\n",
    "data_academie = data.groupby(['academie', 'rentree_scolaire'])[['nombre_total_eleves', 'Eleve Élémentaire Total', 'Eleve Maternelle Total', 'Eleve en Handicap']].sum().reset_index()\n",
    "data['code_postal'] = data['code_postal'].astype(str).str.zfill(5)\n",
    "data['code_departement'] = data['code_postal'].str[:2]\n",
    "departement_code_unique = data[['departement', 'code_departement']].drop_duplicates().reset_index()\n",
    "data_departement = data_departement.merge(departement_code_unique, on='departement', how='left')\n",
    "\n",
    "data_eleve['rentree_scolaire'] = data_eleve['rentree_scolaire'].astype(str)\n",
    "data_departement['rentree_scolaire'] = data_departement['rentree_scolaire'].astype(str)\n",
    "data_region['rentree_scolaire'] = data_region['rentree_scolaire'].astype(str)\n",
    "data_academie['rentree_scolaire'] = data_academie['rentree_scolaire'].astype(str)\n",
    "\n",
    "data_departement\n"
   ]
  },
  {
   "cell_type": "code",
   "execution_count": 207,
   "metadata": {},
   "outputs": [
    {
     "data": {
      "text/plain": [
       "6653465"
      ]
     },
     "execution_count": 207,
     "metadata": {},
     "output_type": "execute_result"
    }
   ],
   "source": [
    "filtered_data = data_region[data_region['rentree_scolaire'] == '2019']\n",
    "filtered_data['nombre_total_eleves'].sum()"
   ]
  },
  {
   "cell_type": "code",
   "execution_count": 208,
   "metadata": {},
   "outputs": [
    {
     "data": {
      "text/html": [
       "<div>\n",
       "<style scoped>\n",
       "    .dataframe tbody tr th:only-of-type {\n",
       "        vertical-align: middle;\n",
       "    }\n",
       "\n",
       "    .dataframe tbody tr th {\n",
       "        vertical-align: top;\n",
       "    }\n",
       "\n",
       "    .dataframe thead th {\n",
       "        text-align: right;\n",
       "    }\n",
       "</style>\n",
       "<table border=\"1\" class=\"dataframe\">\n",
       "  <thead>\n",
       "    <tr style=\"text-align: right;\">\n",
       "      <th></th>\n",
       "      <th>departement</th>\n",
       "      <th>rentree_scolaire</th>\n",
       "      <th>nombre_total_eleves</th>\n",
       "      <th>Eleve Élémentaire Total</th>\n",
       "      <th>Eleve Maternelle Total</th>\n",
       "      <th>Eleve en Handicap</th>\n",
       "      <th>index</th>\n",
       "      <th>code_departement</th>\n",
       "      <th>Eleve de CP</th>\n",
       "      <th>Eleve de CE1</th>\n",
       "      <th>Eleve de CE2</th>\n",
       "      <th>Eleve de CM1</th>\n",
       "      <th>Eleve de CM2</th>\n",
       "    </tr>\n",
       "  </thead>\n",
       "  <tbody>\n",
       "    <tr>\n",
       "      <th>0</th>\n",
       "      <td>AIN</td>\n",
       "      <td>2019</td>\n",
       "      <td>69754</td>\n",
       "      <td>44024</td>\n",
       "      <td>25216</td>\n",
       "      <td>514</td>\n",
       "      <td>3919</td>\n",
       "      <td>01</td>\n",
       "      <td>827029</td>\n",
       "      <td>833242</td>\n",
       "      <td>831215</td>\n",
       "      <td>835383</td>\n",
       "      <td>833978</td>\n",
       "    </tr>\n",
       "    <tr>\n",
       "      <th>1</th>\n",
       "      <td>AISNE</td>\n",
       "      <td>2019</td>\n",
       "      <td>53639</td>\n",
       "      <td>33648</td>\n",
       "      <td>19437</td>\n",
       "      <td>554</td>\n",
       "      <td>18069</td>\n",
       "      <td>02</td>\n",
       "      <td>827029</td>\n",
       "      <td>833242</td>\n",
       "      <td>831215</td>\n",
       "      <td>835383</td>\n",
       "      <td>833978</td>\n",
       "    </tr>\n",
       "    <tr>\n",
       "      <th>2</th>\n",
       "      <td>ALLIER</td>\n",
       "      <td>2019</td>\n",
       "      <td>27535</td>\n",
       "      <td>17334</td>\n",
       "      <td>9897</td>\n",
       "      <td>304</td>\n",
       "      <td>0</td>\n",
       "      <td>03</td>\n",
       "      <td>827029</td>\n",
       "      <td>833242</td>\n",
       "      <td>831215</td>\n",
       "      <td>835383</td>\n",
       "      <td>833978</td>\n",
       "    </tr>\n",
       "    <tr>\n",
       "      <th>3</th>\n",
       "      <td>ALPES-DE-HTE-PROVENCE</td>\n",
       "      <td>2019</td>\n",
       "      <td>14043</td>\n",
       "      <td>8891</td>\n",
       "      <td>5030</td>\n",
       "      <td>122</td>\n",
       "      <td>45176</td>\n",
       "      <td>04</td>\n",
       "      <td>827029</td>\n",
       "      <td>833242</td>\n",
       "      <td>831215</td>\n",
       "      <td>835383</td>\n",
       "      <td>833978</td>\n",
       "    </tr>\n",
       "    <tr>\n",
       "      <th>4</th>\n",
       "      <td>ALPES-DE-HTE-PROVENCE</td>\n",
       "      <td>2019</td>\n",
       "      <td>14043</td>\n",
       "      <td>8891</td>\n",
       "      <td>5030</td>\n",
       "      <td>122</td>\n",
       "      <td>45201</td>\n",
       "      <td>05</td>\n",
       "      <td>827029</td>\n",
       "      <td>833242</td>\n",
       "      <td>831215</td>\n",
       "      <td>835383</td>\n",
       "      <td>833978</td>\n",
       "    </tr>\n",
       "  </tbody>\n",
       "</table>\n",
       "</div>"
      ],
      "text/plain": [
       "             departement rentree_scolaire  nombre_total_eleves  \\\n",
       "0                    AIN             2019                69754   \n",
       "1                  AISNE             2019                53639   \n",
       "2                 ALLIER             2019                27535   \n",
       "3  ALPES-DE-HTE-PROVENCE             2019                14043   \n",
       "4  ALPES-DE-HTE-PROVENCE             2019                14043   \n",
       "\n",
       "   Eleve Élémentaire Total  Eleve Maternelle Total  Eleve en Handicap  index  \\\n",
       "0                    44024                   25216                514   3919   \n",
       "1                    33648                   19437                554  18069   \n",
       "2                    17334                    9897                304      0   \n",
       "3                     8891                    5030                122  45176   \n",
       "4                     8891                    5030                122  45201   \n",
       "\n",
       "  code_departement  Eleve de CP  Eleve de CE1  Eleve de CE2  Eleve de CM1  \\\n",
       "0               01       827029        833242        831215        835383   \n",
       "1               02       827029        833242        831215        835383   \n",
       "2               03       827029        833242        831215        835383   \n",
       "3               04       827029        833242        831215        835383   \n",
       "4               05       827029        833242        831215        835383   \n",
       "\n",
       "   Eleve de CM2  \n",
       "0        833978  \n",
       "1        833978  \n",
       "2        833978  \n",
       "3        833978  \n",
       "4        833978  "
      ]
     },
     "execution_count": 208,
     "metadata": {},
     "output_type": "execute_result"
    }
   ],
   "source": [
    "merged_data = pd.merge(data_departement, data_eleve, on='rentree_scolaire', how='outer')\n",
    "merged_data.head(5)"
   ]
  },
  {
   "cell_type": "code",
   "execution_count": 209,
   "metadata": {},
   "outputs": [
    {
     "name": "stdout",
     "output_type": "stream",
     "text": [
      "    departement  rentree_scolaire  Eleve Maternelle Total\n",
      "0           AIN              2019                   25216\n",
      "1           AIN              2020                   24701\n",
      "2           AIN              2021                   24823\n",
      "3           AIN              2022                   24724\n",
      "4           AIN              2023                   24706\n",
      "..          ...               ...                     ...\n",
      "500    YVELINES              2019                   60143\n",
      "501    YVELINES              2020                   59411\n",
      "502    YVELINES              2021                   58647\n",
      "503    YVELINES              2022                   58180\n",
      "504    YVELINES              2023                   57672\n",
      "\n",
      "[505 rows x 3 columns]\n",
      "             region_academique  rentree_scolaire  Eleve Maternelle Total\n",
      "0      AUVERGNE-ET-RHONE-ALPES              2019                  296963\n",
      "1      AUVERGNE-ET-RHONE-ALPES              2020                  288811\n",
      "2      AUVERGNE-ET-RHONE-ALPES              2021                  283968\n",
      "3      AUVERGNE-ET-RHONE-ALPES              2022                  281054\n",
      "4         AUVERGNE-RHONE-ALPES              2023                  276834\n",
      "..                         ...               ...                     ...\n",
      "85  PROVENCE-ALPES-COTE D'AZUR              2023                  172037\n",
      "86  PROVENCE-ALPES-COTE-D'AZUR              2019                  179657\n",
      "87  PROVENCE-ALPES-COTE-D'AZUR              2020                  176303\n",
      "88  PROVENCE-ALPES-COTE-D'AZUR              2021                  174401\n",
      "89  PROVENCE-ALPES-COTE-D'AZUR              2022                  173939\n",
      "\n",
      "[90 rows x 3 columns]\n"
     ]
    }
   ],
   "source": [
    "data_departement2 = data.groupby(['departement', 'rentree_scolaire'])['Eleve Maternelle Total'].sum().reset_index()\n",
    "data_region1 = data.groupby(['region_academique', 'rentree_scolaire'])['Eleve Maternelle Total'].sum().reset_index()\n",
    "print(data_departement2)\n",
    "print(data_region1)"
   ]
  },
  {
   "cell_type": "code",
   "execution_count": 210,
   "metadata": {},
   "outputs": [
    {
     "data": {
      "text/html": [
       "<div>\n",
       "<style scoped>\n",
       "    .dataframe tbody tr th:only-of-type {\n",
       "        vertical-align: middle;\n",
       "    }\n",
       "\n",
       "    .dataframe tbody tr th {\n",
       "        vertical-align: top;\n",
       "    }\n",
       "\n",
       "    .dataframe thead th {\n",
       "        text-align: right;\n",
       "    }\n",
       "</style>\n",
       "<table border=\"1\" class=\"dataframe\">\n",
       "  <thead>\n",
       "    <tr style=\"text-align: right;\">\n",
       "      <th></th>\n",
       "      <th>departement</th>\n",
       "      <th>rentree_scolaire</th>\n",
       "      <th>nombre_total_eleves</th>\n",
       "      <th>Eleve Maternelle Total</th>\n",
       "    </tr>\n",
       "  </thead>\n",
       "  <tbody>\n",
       "    <tr>\n",
       "      <th>0</th>\n",
       "      <td>AIN</td>\n",
       "      <td>2019</td>\n",
       "      <td>69754</td>\n",
       "      <td>25216</td>\n",
       "    </tr>\n",
       "    <tr>\n",
       "      <th>1</th>\n",
       "      <td>AIN</td>\n",
       "      <td>2020</td>\n",
       "      <td>69287</td>\n",
       "      <td>24701</td>\n",
       "    </tr>\n",
       "    <tr>\n",
       "      <th>2</th>\n",
       "      <td>AIN</td>\n",
       "      <td>2021</td>\n",
       "      <td>69142</td>\n",
       "      <td>24823</td>\n",
       "    </tr>\n",
       "    <tr>\n",
       "      <th>3</th>\n",
       "      <td>AIN</td>\n",
       "      <td>2022</td>\n",
       "      <td>69078</td>\n",
       "      <td>24724</td>\n",
       "    </tr>\n",
       "    <tr>\n",
       "      <th>4</th>\n",
       "      <td>AIN</td>\n",
       "      <td>2023</td>\n",
       "      <td>68829</td>\n",
       "      <td>24706</td>\n",
       "    </tr>\n",
       "    <tr>\n",
       "      <th>...</th>\n",
       "      <td>...</td>\n",
       "      <td>...</td>\n",
       "      <td>...</td>\n",
       "      <td>...</td>\n",
       "    </tr>\n",
       "    <tr>\n",
       "      <th>500</th>\n",
       "      <td>YVELINES</td>\n",
       "      <td>2019</td>\n",
       "      <td>163791</td>\n",
       "      <td>60143</td>\n",
       "    </tr>\n",
       "    <tr>\n",
       "      <th>501</th>\n",
       "      <td>YVELINES</td>\n",
       "      <td>2020</td>\n",
       "      <td>162852</td>\n",
       "      <td>59411</td>\n",
       "    </tr>\n",
       "    <tr>\n",
       "      <th>502</th>\n",
       "      <td>YVELINES</td>\n",
       "      <td>2021</td>\n",
       "      <td>161318</td>\n",
       "      <td>58647</td>\n",
       "    </tr>\n",
       "    <tr>\n",
       "      <th>503</th>\n",
       "      <td>YVELINES</td>\n",
       "      <td>2022</td>\n",
       "      <td>160640</td>\n",
       "      <td>58180</td>\n",
       "    </tr>\n",
       "    <tr>\n",
       "      <th>504</th>\n",
       "      <td>YVELINES</td>\n",
       "      <td>2023</td>\n",
       "      <td>159372</td>\n",
       "      <td>57672</td>\n",
       "    </tr>\n",
       "  </tbody>\n",
       "</table>\n",
       "<p>505 rows × 4 columns</p>\n",
       "</div>"
      ],
      "text/plain": [
       "    departement  rentree_scolaire  nombre_total_eleves  Eleve Maternelle Total\n",
       "0           AIN              2019                69754                   25216\n",
       "1           AIN              2020                69287                   24701\n",
       "2           AIN              2021                69142                   24823\n",
       "3           AIN              2022                69078                   24724\n",
       "4           AIN              2023                68829                   24706\n",
       "..          ...               ...                  ...                     ...\n",
       "500    YVELINES              2019               163791                   60143\n",
       "501    YVELINES              2020               162852                   59411\n",
       "502    YVELINES              2021               161318                   58647\n",
       "503    YVELINES              2022               160640                   58180\n",
       "504    YVELINES              2023               159372                   57672\n",
       "\n",
       "[505 rows x 4 columns]"
      ]
     },
     "execution_count": 210,
     "metadata": {},
     "output_type": "execute_result"
    }
   ],
   "source": [
    "data_departement3 = data.groupby(['departement', 'rentree_scolaire'])[['nombre_total_eleves', 'Eleve Maternelle Total']].sum().reset_index()\n",
    "data_departement3"
   ]
  },
  {
   "cell_type": "code",
   "execution_count": 211,
   "metadata": {},
   "outputs": [
    {
     "data": {
      "text/html": [
       "<div>\n",
       "<style scoped>\n",
       "    .dataframe tbody tr th:only-of-type {\n",
       "        vertical-align: middle;\n",
       "    }\n",
       "\n",
       "    .dataframe tbody tr th {\n",
       "        vertical-align: top;\n",
       "    }\n",
       "\n",
       "    .dataframe thead th {\n",
       "        text-align: right;\n",
       "    }\n",
       "</style>\n",
       "<table border=\"1\" class=\"dataframe\">\n",
       "  <thead>\n",
       "    <tr style=\"text-align: right;\">\n",
       "      <th></th>\n",
       "      <th>departement</th>\n",
       "      <th>rentree_scolaire</th>\n",
       "      <th>nombre_total_eleves</th>\n",
       "      <th>Eleve Élémentaire Total</th>\n",
       "      <th>Eleve Maternelle Total</th>\n",
       "      <th>Eleve en Handicap</th>\n",
       "      <th>index</th>\n",
       "      <th>code_departement</th>\n",
       "      <th>Eleve de CP</th>\n",
       "      <th>Eleve de CE1</th>\n",
       "      <th>Eleve de CE2</th>\n",
       "      <th>Eleve de CM1</th>\n",
       "      <th>Eleve de CM2</th>\n",
       "    </tr>\n",
       "  </thead>\n",
       "  <tbody>\n",
       "    <tr>\n",
       "      <th>0</th>\n",
       "      <td>AIN</td>\n",
       "      <td>2019</td>\n",
       "      <td>69754</td>\n",
       "      <td>44024</td>\n",
       "      <td>25216</td>\n",
       "      <td>514</td>\n",
       "      <td>3919</td>\n",
       "      <td>01</td>\n",
       "      <td>827029</td>\n",
       "      <td>833242</td>\n",
       "      <td>831215</td>\n",
       "      <td>835383</td>\n",
       "      <td>833978</td>\n",
       "    </tr>\n",
       "    <tr>\n",
       "      <th>1</th>\n",
       "      <td>AISNE</td>\n",
       "      <td>2019</td>\n",
       "      <td>53639</td>\n",
       "      <td>33648</td>\n",
       "      <td>19437</td>\n",
       "      <td>554</td>\n",
       "      <td>18069</td>\n",
       "      <td>02</td>\n",
       "      <td>827029</td>\n",
       "      <td>833242</td>\n",
       "      <td>831215</td>\n",
       "      <td>835383</td>\n",
       "      <td>833978</td>\n",
       "    </tr>\n",
       "    <tr>\n",
       "      <th>2</th>\n",
       "      <td>ALLIER</td>\n",
       "      <td>2019</td>\n",
       "      <td>27535</td>\n",
       "      <td>17334</td>\n",
       "      <td>9897</td>\n",
       "      <td>304</td>\n",
       "      <td>0</td>\n",
       "      <td>03</td>\n",
       "      <td>827029</td>\n",
       "      <td>833242</td>\n",
       "      <td>831215</td>\n",
       "      <td>835383</td>\n",
       "      <td>833978</td>\n",
       "    </tr>\n",
       "    <tr>\n",
       "      <th>3</th>\n",
       "      <td>ALPES-DE-HTE-PROVENCE</td>\n",
       "      <td>2019</td>\n",
       "      <td>14043</td>\n",
       "      <td>8891</td>\n",
       "      <td>5030</td>\n",
       "      <td>122</td>\n",
       "      <td>45176</td>\n",
       "      <td>04</td>\n",
       "      <td>827029</td>\n",
       "      <td>833242</td>\n",
       "      <td>831215</td>\n",
       "      <td>835383</td>\n",
       "      <td>833978</td>\n",
       "    </tr>\n",
       "    <tr>\n",
       "      <th>4</th>\n",
       "      <td>ALPES-DE-HTE-PROVENCE</td>\n",
       "      <td>2019</td>\n",
       "      <td>14043</td>\n",
       "      <td>8891</td>\n",
       "      <td>5030</td>\n",
       "      <td>122</td>\n",
       "      <td>45201</td>\n",
       "      <td>05</td>\n",
       "      <td>827029</td>\n",
       "      <td>833242</td>\n",
       "      <td>831215</td>\n",
       "      <td>835383</td>\n",
       "      <td>833978</td>\n",
       "    </tr>\n",
       "    <tr>\n",
       "      <th>...</th>\n",
       "      <td>...</td>\n",
       "      <td>...</td>\n",
       "      <td>...</td>\n",
       "      <td>...</td>\n",
       "      <td>...</td>\n",
       "      <td>...</td>\n",
       "      <td>...</td>\n",
       "      <td>...</td>\n",
       "      <td>...</td>\n",
       "      <td>...</td>\n",
       "      <td>...</td>\n",
       "      <td>...</td>\n",
       "      <td>...</td>\n",
       "    </tr>\n",
       "    <tr>\n",
       "      <th>535</th>\n",
       "      <td>VIENNE</td>\n",
       "      <td>2023</td>\n",
       "      <td>35829</td>\n",
       "      <td>22926</td>\n",
       "      <td>12592</td>\n",
       "      <td>311</td>\n",
       "      <td>37586</td>\n",
       "      <td>86</td>\n",
       "      <td>777182</td>\n",
       "      <td>787420</td>\n",
       "      <td>802016</td>\n",
       "      <td>815018</td>\n",
       "      <td>816758</td>\n",
       "    </tr>\n",
       "    <tr>\n",
       "      <th>536</th>\n",
       "      <td>VIENNE</td>\n",
       "      <td>2023</td>\n",
       "      <td>35829</td>\n",
       "      <td>22926</td>\n",
       "      <td>12592</td>\n",
       "      <td>311</td>\n",
       "      <td>37623</td>\n",
       "      <td>37</td>\n",
       "      <td>777182</td>\n",
       "      <td>787420</td>\n",
       "      <td>802016</td>\n",
       "      <td>815018</td>\n",
       "      <td>816758</td>\n",
       "    </tr>\n",
       "    <tr>\n",
       "      <th>537</th>\n",
       "      <td>VOSGES</td>\n",
       "      <td>2023</td>\n",
       "      <td>28571</td>\n",
       "      <td>18011</td>\n",
       "      <td>10162</td>\n",
       "      <td>398</td>\n",
       "      <td>14914</td>\n",
       "      <td>88</td>\n",
       "      <td>777182</td>\n",
       "      <td>787420</td>\n",
       "      <td>802016</td>\n",
       "      <td>815018</td>\n",
       "      <td>816758</td>\n",
       "    </tr>\n",
       "    <tr>\n",
       "      <th>538</th>\n",
       "      <td>YONNE</td>\n",
       "      <td>2023</td>\n",
       "      <td>28238</td>\n",
       "      <td>18068</td>\n",
       "      <td>9891</td>\n",
       "      <td>279</td>\n",
       "      <td>8284</td>\n",
       "      <td>89</td>\n",
       "      <td>777182</td>\n",
       "      <td>787420</td>\n",
       "      <td>802016</td>\n",
       "      <td>815018</td>\n",
       "      <td>816758</td>\n",
       "    </tr>\n",
       "    <tr>\n",
       "      <th>539</th>\n",
       "      <td>YVELINES</td>\n",
       "      <td>2023</td>\n",
       "      <td>159372</td>\n",
       "      <td>100829</td>\n",
       "      <td>57672</td>\n",
       "      <td>871</td>\n",
       "      <td>28710</td>\n",
       "      <td>78</td>\n",
       "      <td>777182</td>\n",
       "      <td>787420</td>\n",
       "      <td>802016</td>\n",
       "      <td>815018</td>\n",
       "      <td>816758</td>\n",
       "    </tr>\n",
       "  </tbody>\n",
       "</table>\n",
       "<p>540 rows × 13 columns</p>\n",
       "</div>"
      ],
      "text/plain": [
       "               departement rentree_scolaire  nombre_total_eleves  \\\n",
       "0                      AIN             2019                69754   \n",
       "1                    AISNE             2019                53639   \n",
       "2                   ALLIER             2019                27535   \n",
       "3    ALPES-DE-HTE-PROVENCE             2019                14043   \n",
       "4    ALPES-DE-HTE-PROVENCE             2019                14043   \n",
       "..                     ...              ...                  ...   \n",
       "535                 VIENNE             2023                35829   \n",
       "536                 VIENNE             2023                35829   \n",
       "537                 VOSGES             2023                28571   \n",
       "538                  YONNE             2023                28238   \n",
       "539               YVELINES             2023               159372   \n",
       "\n",
       "     Eleve Élémentaire Total  Eleve Maternelle Total  Eleve en Handicap  \\\n",
       "0                      44024                   25216                514   \n",
       "1                      33648                   19437                554   \n",
       "2                      17334                    9897                304   \n",
       "3                       8891                    5030                122   \n",
       "4                       8891                    5030                122   \n",
       "..                       ...                     ...                ...   \n",
       "535                    22926                   12592                311   \n",
       "536                    22926                   12592                311   \n",
       "537                    18011                   10162                398   \n",
       "538                    18068                    9891                279   \n",
       "539                   100829                   57672                871   \n",
       "\n",
       "     index code_departement  Eleve de CP  Eleve de CE1  Eleve de CE2  \\\n",
       "0     3919               01       827029        833242        831215   \n",
       "1    18069               02       827029        833242        831215   \n",
       "2        0               03       827029        833242        831215   \n",
       "3    45176               04       827029        833242        831215   \n",
       "4    45201               05       827029        833242        831215   \n",
       "..     ...              ...          ...           ...           ...   \n",
       "535  37586               86       777182        787420        802016   \n",
       "536  37623               37       777182        787420        802016   \n",
       "537  14914               88       777182        787420        802016   \n",
       "538   8284               89       777182        787420        802016   \n",
       "539  28710               78       777182        787420        802016   \n",
       "\n",
       "     Eleve de CM1  Eleve de CM2  \n",
       "0          835383        833978  \n",
       "1          835383        833978  \n",
       "2          835383        833978  \n",
       "3          835383        833978  \n",
       "4          835383        833978  \n",
       "..            ...           ...  \n",
       "535        815018        816758  \n",
       "536        815018        816758  \n",
       "537        815018        816758  \n",
       "538        815018        816758  \n",
       "539        815018        816758  \n",
       "\n",
       "[540 rows x 13 columns]"
      ]
     },
     "execution_count": 211,
     "metadata": {},
     "output_type": "execute_result"
    }
   ],
   "source": [
    "merged_data = pd.merge(data_departement, data_eleve, on='rentree_scolaire', how='outer')\n",
    "merged_data"
   ]
  },
  {
   "cell_type": "code",
   "execution_count": 212,
   "metadata": {},
   "outputs": [
    {
     "data": {
      "text/html": [
       "<div>\n",
       "<style scoped>\n",
       "    .dataframe tbody tr th:only-of-type {\n",
       "        vertical-align: middle;\n",
       "    }\n",
       "\n",
       "    .dataframe tbody tr th {\n",
       "        vertical-align: top;\n",
       "    }\n",
       "\n",
       "    .dataframe thead th {\n",
       "        text-align: right;\n",
       "    }\n",
       "</style>\n",
       "<table border=\"1\" class=\"dataframe\">\n",
       "  <thead>\n",
       "    <tr style=\"text-align: right;\">\n",
       "      <th></th>\n",
       "      <th>departement</th>\n",
       "      <th>rentree_scolaire</th>\n",
       "      <th>nombre_total_eleves</th>\n",
       "      <th>Eleve Élémentaire Total</th>\n",
       "      <th>Eleve Maternelle Total</th>\n",
       "      <th>Eleve en Handicap</th>\n",
       "      <th>index</th>\n",
       "      <th>code_departement</th>\n",
       "    </tr>\n",
       "  </thead>\n",
       "  <tbody>\n",
       "    <tr>\n",
       "      <th>3</th>\n",
       "      <td>AIN</td>\n",
       "      <td>2022</td>\n",
       "      <td>69078</td>\n",
       "      <td>43735</td>\n",
       "      <td>24724</td>\n",
       "      <td>619</td>\n",
       "      <td>3919</td>\n",
       "      <td>01</td>\n",
       "    </tr>\n",
       "    <tr>\n",
       "      <th>8</th>\n",
       "      <td>AISNE</td>\n",
       "      <td>2022</td>\n",
       "      <td>50005</td>\n",
       "      <td>31648</td>\n",
       "      <td>17753</td>\n",
       "      <td>604</td>\n",
       "      <td>18069</td>\n",
       "      <td>02</td>\n",
       "    </tr>\n",
       "    <tr>\n",
       "      <th>13</th>\n",
       "      <td>ALLIER</td>\n",
       "      <td>2022</td>\n",
       "      <td>26059</td>\n",
       "      <td>16553</td>\n",
       "      <td>9148</td>\n",
       "      <td>358</td>\n",
       "      <td>0</td>\n",
       "      <td>03</td>\n",
       "    </tr>\n",
       "    <tr>\n",
       "      <th>24</th>\n",
       "      <td>ALPES-DE-HTE-PROVENCE</td>\n",
       "      <td>2022</td>\n",
       "      <td>13934</td>\n",
       "      <td>8913</td>\n",
       "      <td>4891</td>\n",
       "      <td>130</td>\n",
       "      <td>45176</td>\n",
       "      <td>04</td>\n",
       "    </tr>\n",
       "    <tr>\n",
       "      <th>25</th>\n",
       "      <td>ALPES-DE-HTE-PROVENCE</td>\n",
       "      <td>2022</td>\n",
       "      <td>13934</td>\n",
       "      <td>8913</td>\n",
       "      <td>4891</td>\n",
       "      <td>130</td>\n",
       "      <td>45201</td>\n",
       "      <td>05</td>\n",
       "    </tr>\n",
       "    <tr>\n",
       "      <th>...</th>\n",
       "      <td>...</td>\n",
       "      <td>...</td>\n",
       "      <td>...</td>\n",
       "      <td>...</td>\n",
       "      <td>...</td>\n",
       "      <td>...</td>\n",
       "      <td>...</td>\n",
       "      <td>...</td>\n",
       "    </tr>\n",
       "    <tr>\n",
       "      <th>521</th>\n",
       "      <td>VIENNE</td>\n",
       "      <td>2022</td>\n",
       "      <td>36635</td>\n",
       "      <td>23586</td>\n",
       "      <td>12726</td>\n",
       "      <td>323</td>\n",
       "      <td>37586</td>\n",
       "      <td>86</td>\n",
       "    </tr>\n",
       "    <tr>\n",
       "      <th>522</th>\n",
       "      <td>VIENNE</td>\n",
       "      <td>2022</td>\n",
       "      <td>36635</td>\n",
       "      <td>23586</td>\n",
       "      <td>12726</td>\n",
       "      <td>323</td>\n",
       "      <td>37623</td>\n",
       "      <td>37</td>\n",
       "    </tr>\n",
       "    <tr>\n",
       "      <th>528</th>\n",
       "      <td>VOSGES</td>\n",
       "      <td>2022</td>\n",
       "      <td>29211</td>\n",
       "      <td>18424</td>\n",
       "      <td>10356</td>\n",
       "      <td>431</td>\n",
       "      <td>14914</td>\n",
       "      <td>88</td>\n",
       "    </tr>\n",
       "    <tr>\n",
       "      <th>533</th>\n",
       "      <td>YONNE</td>\n",
       "      <td>2022</td>\n",
       "      <td>28870</td>\n",
       "      <td>18572</td>\n",
       "      <td>10020</td>\n",
       "      <td>278</td>\n",
       "      <td>8284</td>\n",
       "      <td>89</td>\n",
       "    </tr>\n",
       "    <tr>\n",
       "      <th>538</th>\n",
       "      <td>YVELINES</td>\n",
       "      <td>2022</td>\n",
       "      <td>160640</td>\n",
       "      <td>101620</td>\n",
       "      <td>58180</td>\n",
       "      <td>840</td>\n",
       "      <td>28710</td>\n",
       "      <td>78</td>\n",
       "    </tr>\n",
       "  </tbody>\n",
       "</table>\n",
       "<p>108 rows × 8 columns</p>\n",
       "</div>"
      ],
      "text/plain": [
       "               departement rentree_scolaire  nombre_total_eleves  \\\n",
       "3                      AIN             2022                69078   \n",
       "8                    AISNE             2022                50005   \n",
       "13                  ALLIER             2022                26059   \n",
       "24   ALPES-DE-HTE-PROVENCE             2022                13934   \n",
       "25   ALPES-DE-HTE-PROVENCE             2022                13934   \n",
       "..                     ...              ...                  ...   \n",
       "521                 VIENNE             2022                36635   \n",
       "522                 VIENNE             2022                36635   \n",
       "528                 VOSGES             2022                29211   \n",
       "533                  YONNE             2022                28870   \n",
       "538               YVELINES             2022               160640   \n",
       "\n",
       "     Eleve Élémentaire Total  Eleve Maternelle Total  Eleve en Handicap  \\\n",
       "3                      43735                   24724                619   \n",
       "8                      31648                   17753                604   \n",
       "13                     16553                    9148                358   \n",
       "24                      8913                    4891                130   \n",
       "25                      8913                    4891                130   \n",
       "..                       ...                     ...                ...   \n",
       "521                    23586                   12726                323   \n",
       "522                    23586                   12726                323   \n",
       "528                    18424                   10356                431   \n",
       "533                    18572                   10020                278   \n",
       "538                   101620                   58180                840   \n",
       "\n",
       "     index code_departement  \n",
       "3     3919               01  \n",
       "8    18069               02  \n",
       "13       0               03  \n",
       "24   45176               04  \n",
       "25   45201               05  \n",
       "..     ...              ...  \n",
       "521  37586               86  \n",
       "522  37623               37  \n",
       "528  14914               88  \n",
       "533   8284               89  \n",
       "538  28710               78  \n",
       "\n",
       "[108 rows x 8 columns]"
      ]
     },
     "execution_count": 212,
     "metadata": {},
     "output_type": "execute_result"
    }
   ],
   "source": [
    "data_departement22 = data_departement[data_departement['rentree_scolaire'] == '2022']\n",
    "data_departement22"
   ]
  },
  {
   "cell_type": "code",
   "execution_count": 213,
   "metadata": {},
   "outputs": [
    {
     "name": "stdout",
     "output_type": "stream",
     "text": [
      "4213736\n",
      "           departement rentree_scolaire  nombre_total_eleves  \\\n",
      "398               NORD             2022               270235   \n",
      "73    BOUCHES-DU-RHONE             2022               205992   \n",
      "438              RHONE             2022               196230   \n",
      "468  SEINE-SAINT-DENIS             2022               195999   \n",
      "463     SEINE-ET-MARNE             2022               163042   \n",
      "..                 ...              ...                  ...   \n",
      "48              ARIEGE             2022                11691   \n",
      "108       CORSE-DU-SUD             2022                11752   \n",
      "83              CANTAL             2022                 9930   \n",
      "123             CREUSE             2022                 7675   \n",
      "333             LOZERE             2022                 5918   \n",
      "\n",
      "     Eleve Élémentaire Total  Eleve Maternelle Total  Eleve en Handicap  \\\n",
      "398                   167142                  100385               2708   \n",
      "73                    129478                   74718               1796   \n",
      "438                   122584                   72320               1326   \n",
      "468                   119404                   75394               1201   \n",
      "463                   103024                   59026                992   \n",
      "..                       ...                     ...                ...   \n",
      "48                      7539                    4027                125   \n",
      "108                     7438                    4220                 94   \n",
      "83                      6318                    3470                142   \n",
      "123                     4854                    2718                103   \n",
      "333                     3700                    2153                 65   \n",
      "\n",
      "     index code_departement  \n",
      "398  19922               59  \n",
      "73   45337               13  \n",
      "438   4980               69  \n",
      "468  24144               93  \n",
      "463  23049               77  \n",
      "..     ...              ...  \n",
      "48   39944               09  \n",
      "108  13011               20  \n",
      "83     344               15  \n",
      "123  36006               23  \n",
      "333  39538               48  \n",
      "\n",
      "[108 rows x 8 columns]\n"
     ]
    }
   ],
   "source": [
    "print(data_departement22['Eleve Élémentaire Total'].sum())\n",
    "print(data_departement22.sort_values(by = 'Eleve Élémentaire Total', ascending = False))"
   ]
  },
  {
   "cell_type": "code",
   "execution_count": 214,
   "metadata": {},
   "outputs": [
    {
     "name": "stdout",
     "output_type": "stream",
     "text": [
      "             region_academique rentree_scolaire  nombre_total_eleves  \\\n",
      "48               ILE-DE-FRANCE             2022              1273032   \n",
      "3      AUVERGNE-ET-RHONE-ALPES             2022               780266   \n",
      "43             HAUTS-DE-FRANCE             2022               601114   \n",
      "78                   OCCITANIE             2022               525178   \n",
      "73          NOUVELLE-AQUITAINE             2022               498905   \n",
      "29                   GRAND-EST             2022               489284   \n",
      "89  PROVENCE-ALPES-COTE-D'AZUR             2022               484614   \n",
      "84            PAYS-DE-LA-LOIRE             2022               367350   \n",
      "68                   NORMANDIE             2022               304361   \n",
      "13                    BRETAGNE             2022               303937   \n",
      "8   BOURGOGNE-ET-FRANCHE-COMTE             2022               240172   \n",
      "19         CENTRE-VAL-DE-LOIRE             2022               234664   \n",
      "54                  LA-REUNION             2022               113652   \n",
      "63                     MAYOTTE             2022                60775   \n",
      "38                      GUYANE             2022                48218   \n",
      "33                  GUADELOUPE             2022                41153   \n",
      "58                  MARTINIQUE             2022                31423   \n",
      "23                       CORSE             2022                24693   \n",
      "\n",
      "    Eleve Élémentaire Total  Eleve Maternelle Total  Eleve en Handicap  \\\n",
      "48                   792360                  473241               7431   \n",
      "3                    492510                  281054               6702   \n",
      "43                   375158                  219640               6316   \n",
      "78                   334723                  185317               5138   \n",
      "73                   320462                  173965               4478   \n",
      "29                   309507                  174034               5743   \n",
      "89                   306453                  173939               4222   \n",
      "84                   234414                  130442               2494   \n",
      "68                   193435                  107954               2972   \n",
      "13                   191058                  110823               2056   \n",
      "8                    152541                   84896               2735   \n",
      "19                   149927                   82419               2318   \n",
      "54                    70928                   41369               1355   \n",
      "63                    38598                   21980                197   \n",
      "38                    29326                   18506                386   \n",
      "33                    25945                   14831                377   \n",
      "58                    19628                   11542                253   \n",
      "23                    15488                    8941                264   \n",
      "\n",
      "    Eleve de CP  Eleve de CE1  Eleve de CE2  Eleve de CM1  Eleve de CM2  \n",
      "48       159314        158529        160154        156438        157925  \n",
      "3         96069         97919         99625         98512        100385  \n",
      "43        72042         74388         76290         75767         76671  \n",
      "78        64714         66119         67630         67247         69013  \n",
      "73        61067         62516         65010         65262         66607  \n",
      "29        60227         60970         62921         62640         62749  \n",
      "89        60313         60779         61773         61430         62158  \n",
      "84        44646         45775         47504         47903         48586  \n",
      "68        37090         38151         38930         39045         40219  \n",
      "13        36375         36996         38713         38913         40061  \n",
      "8         29287         29963         31202         30629         31460  \n",
      "19        29050         29255         30473         30086         31063  \n",
      "54        14084         14323         14307         13976         14238  \n",
      "63         8381          8102          7560          7281          7274  \n",
      "38         5975          5907          5814          5742          5888  \n",
      "33         5119          4992          5146          5315          5373  \n",
      "58         3725          3818          4084          3927          4074  \n",
      "23         3139          2983          3110          3000          3256  \n"
     ]
    }
   ],
   "source": [
    "data_region22 = pd.DataFrame(data_region[data_region['rentree_scolaire'] == '2022'])\n",
    "\n",
    "print(data_region22.sort_values(by = 'nombre_total_eleves', ascending = False))"
   ]
  },
  {
   "cell_type": "code",
   "execution_count": 215,
   "metadata": {},
   "outputs": [
    {
     "data": {
      "text/html": [
       "<div>\n",
       "<style scoped>\n",
       "    .dataframe tbody tr th:only-of-type {\n",
       "        vertical-align: middle;\n",
       "    }\n",
       "\n",
       "    .dataframe tbody tr th {\n",
       "        vertical-align: top;\n",
       "    }\n",
       "\n",
       "    .dataframe thead th {\n",
       "        text-align: right;\n",
       "    }\n",
       "</style>\n",
       "<table border=\"1\" class=\"dataframe\">\n",
       "  <thead>\n",
       "    <tr style=\"text-align: right;\">\n",
       "      <th></th>\n",
       "      <th>departement</th>\n",
       "      <th>rentree_scolaire</th>\n",
       "      <th>nombre_total_eleves</th>\n",
       "      <th>Eleve Maternelle Total_x</th>\n",
       "      <th>Eleve Maternelle Total_y</th>\n",
       "      <th>Eleve de CP</th>\n",
       "      <th>Eleve de CE1</th>\n",
       "      <th>Eleve de CE2</th>\n",
       "      <th>Eleve de CM1</th>\n",
       "      <th>Eleve de CM2</th>\n",
       "    </tr>\n",
       "  </thead>\n",
       "  <tbody>\n",
       "    <tr>\n",
       "      <th>0</th>\n",
       "      <td>AIN</td>\n",
       "      <td>2019</td>\n",
       "      <td>69754</td>\n",
       "      <td>25216</td>\n",
       "      <td>2441820</td>\n",
       "      <td>827029</td>\n",
       "      <td>833242</td>\n",
       "      <td>831215</td>\n",
       "      <td>835383</td>\n",
       "      <td>833978</td>\n",
       "    </tr>\n",
       "    <tr>\n",
       "      <th>1</th>\n",
       "      <td>AISNE</td>\n",
       "      <td>2019</td>\n",
       "      <td>53639</td>\n",
       "      <td>19437</td>\n",
       "      <td>2441820</td>\n",
       "      <td>827029</td>\n",
       "      <td>833242</td>\n",
       "      <td>831215</td>\n",
       "      <td>835383</td>\n",
       "      <td>833978</td>\n",
       "    </tr>\n",
       "    <tr>\n",
       "      <th>2</th>\n",
       "      <td>ALLIER</td>\n",
       "      <td>2019</td>\n",
       "      <td>27535</td>\n",
       "      <td>9897</td>\n",
       "      <td>2441820</td>\n",
       "      <td>827029</td>\n",
       "      <td>833242</td>\n",
       "      <td>831215</td>\n",
       "      <td>835383</td>\n",
       "      <td>833978</td>\n",
       "    </tr>\n",
       "    <tr>\n",
       "      <th>3</th>\n",
       "      <td>ALPES-DE-HTE-PROVENCE</td>\n",
       "      <td>2019</td>\n",
       "      <td>14043</td>\n",
       "      <td>5030</td>\n",
       "      <td>2441820</td>\n",
       "      <td>827029</td>\n",
       "      <td>833242</td>\n",
       "      <td>831215</td>\n",
       "      <td>835383</td>\n",
       "      <td>833978</td>\n",
       "    </tr>\n",
       "    <tr>\n",
       "      <th>4</th>\n",
       "      <td>ALPES-MARITIMES</td>\n",
       "      <td>2019</td>\n",
       "      <td>101233</td>\n",
       "      <td>37601</td>\n",
       "      <td>2441820</td>\n",
       "      <td>827029</td>\n",
       "      <td>833242</td>\n",
       "      <td>831215</td>\n",
       "      <td>835383</td>\n",
       "      <td>833978</td>\n",
       "    </tr>\n",
       "    <tr>\n",
       "      <th>...</th>\n",
       "      <td>...</td>\n",
       "      <td>...</td>\n",
       "      <td>...</td>\n",
       "      <td>...</td>\n",
       "      <td>...</td>\n",
       "      <td>...</td>\n",
       "      <td>...</td>\n",
       "      <td>...</td>\n",
       "      <td>...</td>\n",
       "      <td>...</td>\n",
       "    </tr>\n",
       "    <tr>\n",
       "      <th>500</th>\n",
       "      <td>VENDEE</td>\n",
       "      <td>2023</td>\n",
       "      <td>60016</td>\n",
       "      <td>20868</td>\n",
       "      <td>2285599</td>\n",
       "      <td>777182</td>\n",
       "      <td>787420</td>\n",
       "      <td>802016</td>\n",
       "      <td>815018</td>\n",
       "      <td>816758</td>\n",
       "    </tr>\n",
       "    <tr>\n",
       "      <th>501</th>\n",
       "      <td>VIENNE</td>\n",
       "      <td>2023</td>\n",
       "      <td>35829</td>\n",
       "      <td>12592</td>\n",
       "      <td>2285599</td>\n",
       "      <td>777182</td>\n",
       "      <td>787420</td>\n",
       "      <td>802016</td>\n",
       "      <td>815018</td>\n",
       "      <td>816758</td>\n",
       "    </tr>\n",
       "    <tr>\n",
       "      <th>502</th>\n",
       "      <td>VOSGES</td>\n",
       "      <td>2023</td>\n",
       "      <td>28571</td>\n",
       "      <td>10162</td>\n",
       "      <td>2285599</td>\n",
       "      <td>777182</td>\n",
       "      <td>787420</td>\n",
       "      <td>802016</td>\n",
       "      <td>815018</td>\n",
       "      <td>816758</td>\n",
       "    </tr>\n",
       "    <tr>\n",
       "      <th>503</th>\n",
       "      <td>YONNE</td>\n",
       "      <td>2023</td>\n",
       "      <td>28238</td>\n",
       "      <td>9891</td>\n",
       "      <td>2285599</td>\n",
       "      <td>777182</td>\n",
       "      <td>787420</td>\n",
       "      <td>802016</td>\n",
       "      <td>815018</td>\n",
       "      <td>816758</td>\n",
       "    </tr>\n",
       "    <tr>\n",
       "      <th>504</th>\n",
       "      <td>YVELINES</td>\n",
       "      <td>2023</td>\n",
       "      <td>159372</td>\n",
       "      <td>57672</td>\n",
       "      <td>2285599</td>\n",
       "      <td>777182</td>\n",
       "      <td>787420</td>\n",
       "      <td>802016</td>\n",
       "      <td>815018</td>\n",
       "      <td>816758</td>\n",
       "    </tr>\n",
       "  </tbody>\n",
       "</table>\n",
       "<p>505 rows × 10 columns</p>\n",
       "</div>"
      ],
      "text/plain": [
       "               departement rentree_scolaire  nombre_total_eleves  \\\n",
       "0                      AIN             2019                69754   \n",
       "1                    AISNE             2019                53639   \n",
       "2                   ALLIER             2019                27535   \n",
       "3    ALPES-DE-HTE-PROVENCE             2019                14043   \n",
       "4          ALPES-MARITIMES             2019               101233   \n",
       "..                     ...              ...                  ...   \n",
       "500                 VENDEE             2023                60016   \n",
       "501                 VIENNE             2023                35829   \n",
       "502                 VOSGES             2023                28571   \n",
       "503                  YONNE             2023                28238   \n",
       "504               YVELINES             2023               159372   \n",
       "\n",
       "     Eleve Maternelle Total_x  Eleve Maternelle Total_y  Eleve de CP  \\\n",
       "0                       25216                   2441820       827029   \n",
       "1                       19437                   2441820       827029   \n",
       "2                        9897                   2441820       827029   \n",
       "3                        5030                   2441820       827029   \n",
       "4                       37601                   2441820       827029   \n",
       "..                        ...                       ...          ...   \n",
       "500                     20868                   2285599       777182   \n",
       "501                     12592                   2285599       777182   \n",
       "502                     10162                   2285599       777182   \n",
       "503                      9891                   2285599       777182   \n",
       "504                     57672                   2285599       777182   \n",
       "\n",
       "     Eleve de CE1  Eleve de CE2  Eleve de CM1  Eleve de CM2  \n",
       "0          833242        831215        835383        833978  \n",
       "1          833242        831215        835383        833978  \n",
       "2          833242        831215        835383        833978  \n",
       "3          833242        831215        835383        833978  \n",
       "4          833242        831215        835383        833978  \n",
       "..            ...           ...           ...           ...  \n",
       "500        787420        802016        815018        816758  \n",
       "501        787420        802016        815018        816758  \n",
       "502        787420        802016        815018        816758  \n",
       "503        787420        802016        815018        816758  \n",
       "504        787420        802016        815018        816758  \n",
       "\n",
       "[505 rows x 10 columns]"
      ]
     },
     "execution_count": 215,
     "metadata": {},
     "output_type": "execute_result"
    }
   ],
   "source": [
    "data_eleve = data.groupby('rentree_scolaire')[['Eleve Maternelle Total','Eleve de CP','Eleve de CE1','Eleve de CE2','Eleve de CM1','Eleve de CM2']].sum().reset_index()\n",
    "data_departement = data.groupby(['departement', 'rentree_scolaire'])[['nombre_total_eleves', 'Eleve Maternelle Total']].sum().reset_index()\n",
    "data_region = data.groupby(['region_academique', 'rentree_scolaire'])[['nombre_total_eleves', 'Eleve Élémentaire Total', 'Eleve Maternelle Total', 'Eleve en Handicap']].sum().reset_index()\n",
    "\n",
    "data_eleve['rentree_scolaire'] = data_eleve['rentree_scolaire'].astype(str)\n",
    "data_departement['rentree_scolaire'] = data_departement['rentree_scolaire'].astype(str)\n",
    "data_region['rentree_scolaire'] = data_region['rentree_scolaire'].astype(str)\n",
    "\n",
    "merged_data = pd.merge(data_departement, data_eleve, on='rentree_scolaire', how='outer')\n",
    "merged_data"
   ]
  },
  {
   "cell_type": "code",
   "execution_count": 216,
   "metadata": {},
   "outputs": [
    {
     "data": {
      "image/png": "[encoded data removed]",
      "text/plain": [
       "<Figure size 1000x600 with 1 Axes>"
      ]
     },
     "metadata": {},
     "output_type": "display_data"
    }
   ],
   "source": [
    "plt.figure(figsize = (10,6))\n",
    "plt.bar(data_region22['region_academique'], height = data_region22['nombre_total_eleves'])\n",
    "plt.bar(data_region22['region_academique'], height = data_region22['Eleve Élémentaire Total'])\n",
    "plt.bar(data_region22['region_academique'], height = data_region22['Eleve Maternelle Total'])\n",
    "plt.bar(data_region22['region_academique'], height = data_region22['Eleve en Handicap'])\n",
    "\n",
    "plt.title(\"Nombre d'élèves par région\")\n",
    "plt.xlabel('Régions')\n",
    "plt.ylabel(\"Nombre d'élèves\")\n",
    "plt.xticks(rotation=90)\n",
    "\n",
    "plt.show()"
   ]
  },
  {
   "cell_type": "code",
   "execution_count": 217,
   "metadata": {},
   "outputs": [
    {
     "data": {
      "image/png": "[encoded data removed]",
      "text/plain": [
       "<Figure size 800x600 with 1 Axes>"
      ]
     },
     "metadata": {},
     "output_type": "display_data"
    }
   ],
   "source": [
    "plt.figure(figsize=(8, 6))\n",
    "plt.pie(data_region22['nombre_total_eleves'], labels=data_region22['region_academique'], autopct='%1.1f%%')\n",
    "plt.show()"
   ]
  },
  {
   "cell_type": "code",
   "execution_count": 218,
   "metadata": {},
   "outputs": [
    {
     "data": {
      "application/vnd.plotly.v1+json": {
       "config": {
        "plotlyServerURL": "https://plot.ly"
       },
       "data": [
        {
         "domain": {
          "x": [
           0,
           1
          ],
          "y": [
           0,
           1
          ]
         },
         "hole": 0.4,
         "hovertemplate": "region_academique=%{label}<br>nombre_total_eleves=%{value}<extra></extra>",
         "labels": [
          "AUVERGNE-ET-RHONE-ALPES",
          "BOURGOGNE-ET-FRANCHE-COMTE",
          "BRETAGNE",
          "CENTRE-VAL-DE-LOIRE",
          "CORSE",
          "GRAND-EST",
          "GUADELOUPE",
          "GUYANE",
          "HAUTS-DE-FRANCE",
          "ILE-DE-FRANCE",
          "LA-REUNION",
          "MARTINIQUE",
          "MAYOTTE",
          "NORMANDIE",
          "NOUVELLE-AQUITAINE",
          "OCCITANIE",
          "PAYS-DE-LA-LOIRE",
          "PROVENCE-ALPES-COTE-D'AZUR"
         ],
         "legendgroup": "",
         "name": "",
         "showlegend": true,
         "type": "pie",
         "values": [
          780266,
          240172,
          303937,
          234664,
          24693,
          489284,
          41153,
          48218,
          601114,
          1273032,
          113652,
          31423,
          60775,
          304361,
          498905,
          525178,
          367350,
          484614
         ]
        }
       ],
       "layout": {
        "legend": {
         "tracegroupgap": 0
        },
        "piecolorway": [
         "#ff9999",
         "#66b3ff",
         "#99ff99",
         "#ffcc99",
         "#c2c2f0",
         "#ffb3e6",
         "#c4e17f",
         "#76d7c4",
         "#f39c12",
         "#34495e",
         "#1abc9c",
         "#9b59b6",
         "#3498db"
        ],
        "template": {
         "data": {
          "candlestick": [
           {
            "decreasing": {
             "line": {
              "color": "#000033"
             }
            },
            "increasing": {
             "line": {
              "color": "#000032"
             }
            },
            "type": "candlestick"
           }
          ],
          "contour": [
           {
            "colorscale": [
             [
              0,
              "#000011"
             ],
             [
              0.1111111111111111,
              "#000012"
             ],
             [
              0.2222222222222222,
              "#000013"
             ],
             [
              0.3333333333333333,
              "#000014"
             ],
             [
              0.4444444444444444,
              "#000015"
             ],
             [
              0.5555555555555556,
              "#000016"
             ],
             [
              0.6666666666666666,
              "#000017"
             ],
             [
              0.7777777777777778,
              "#000018"
             ],
             [
              0.8888888888888888,
              "#000019"
             ],
             [
              1,
              "#000020"
             ]
            ],
            "type": "contour"
           }
          ],
          "contourcarpet": [
           {
            "colorscale": [
             [
              0,
              "#000011"
             ],
             [
              0.1111111111111111,
              "#000012"
             ],
             [
              0.2222222222222222,
              "#000013"
             ],
             [
              0.3333333333333333,
              "#000014"
             ],
             [
              0.4444444444444444,
              "#000015"
             ],
             [
              0.5555555555555556,
              "#000016"
             ],
             [
              0.6666666666666666,
              "#000017"
             ],
             [
              0.7777777777777778,
              "#000018"
             ],
             [
              0.8888888888888888,
              "#000019"
             ],
             [
              1,
              "#000020"
             ]
            ],
            "type": "contourcarpet"
           }
          ],
          "heatmap": [
           {
            "colorscale": [
             [
              0,
              "#000011"
             ],
             [
              0.1111111111111111,
              "#000012"
             ],
             [
              0.2222222222222222,
              "#000013"
             ],
             [
              0.3333333333333333,
              "#000014"
             ],
             [
              0.4444444444444444,
              "#000015"
             ],
             [
              0.5555555555555556,
              "#000016"
             ],
             [
              0.6666666666666666,
              "#000017"
             ],
             [
              0.7777777777777778,
              "#000018"
             ],
             [
              0.8888888888888888,
              "#000019"
             ],
             [
              1,
              "#000020"
             ]
            ],
            "type": "heatmap"
           }
          ],
          "histogram2d": [
           {
            "colorscale": [
             [
              0,
              "#000011"
             ],
             [
              0.1111111111111111,
              "#000012"
             ],
             [
              0.2222222222222222,
              "#000013"
             ],
             [
              0.3333333333333333,
              "#000014"
             ],
             [
              0.4444444444444444,
              "#000015"
             ],
             [
              0.5555555555555556,
              "#000016"
             ],
             [
              0.6666666666666666,
              "#000017"
             ],
             [
              0.7777777777777778,
              "#000018"
             ],
             [
              0.8888888888888888,
              "#000019"
             ],
             [
              1,
              "#000020"
             ]
            ],
            "type": "histogram2d"
           }
          ],
          "icicle": [
           {
            "textfont": {
             "color": "white"
            },
            "type": "icicle"
           }
          ],
          "sankey": [
           {
            "textfont": {
             "color": "#000036"
            },
            "type": "sankey"
           }
          ],
          "scatter": [
           {
            "marker": {
             "line": {
              "width": 0
             }
            },
            "type": "scatter"
           }
          ],
          "table": [
           {
            "cells": {
             "fill": {
              "color": "#000038"
             },
             "font": {
              "color": "#000037"
             },
             "line": {
              "color": "#000039"
             }
            },
            "header": {
             "fill": {
              "color": "#000040"
             },
             "font": {
              "color": "#000036"
             },
             "line": {
              "color": "#000039"
             }
            },
            "type": "table"
           }
          ],
          "waterfall": [
           {
            "connector": {
             "line": {
              "color": "#000036",
              "width": 2
             }
            },
            "decreasing": {
             "marker": {
              "color": "#000033"
             }
            },
            "increasing": {
             "marker": {
              "color": "#000032"
             }
            },
            "totals": {
             "marker": {
              "color": "#000034"
             }
            },
            "type": "waterfall"
           }
          ]
         },
         "layout": {
          "coloraxis": {
           "colorscale": [
            [
             0,
             "#000011"
            ],
            [
             0.1111111111111111,
             "#000012"
            ],
            [
             0.2222222222222222,
             "#000013"
            ],
            [
             0.3333333333333333,
             "#000014"
            ],
            [
             0.4444444444444444,
             "#000015"
            ],
            [
             0.5555555555555556,
             "#000016"
            ],
            [
             0.6666666666666666,
             "#000017"
            ],
            [
             0.7777777777777778,
             "#000018"
            ],
            [
             0.8888888888888888,
             "#000019"
            ],
            [
             1,
             "#000020"
            ]
           ]
          },
          "colorscale": {
           "diverging": [
            [
             0,
             "#000021"
            ],
            [
             0.1,
             "#000022"
            ],
            [
             0.2,
             "#000023"
            ],
            [
             0.3,
             "#000024"
            ],
            [
             0.4,
             "#000025"
            ],
            [
             0.5,
             "#000026"
            ],
            [
             0.6,
             "#000027"
            ],
            [
             0.7,
             "#000028"
            ],
            [
             0.8,
             "#000029"
            ],
            [
             0.9,
             "#000030"
            ],
            [
             1,
             "#000031"
            ]
           ],
           "sequential": [
            [
             0,
             "#000011"
            ],
            [
             0.1111111111111111,
             "#000012"
            ],
            [
             0.2222222222222222,
             "#000013"
            ],
            [
             0.3333333333333333,
             "#000014"
            ],
            [
             0.4444444444444444,
             "#000015"
            ],
            [
             0.5555555555555556,
             "#000016"
            ],
            [
             0.6666666666666666,
             "#000017"
            ],
            [
             0.7777777777777778,
             "#000018"
            ],
            [
             0.8888888888888888,
             "#000019"
            ],
            [
             1,
             "#000020"
            ]
           ],
           "sequentialminus": [
            [
             0,
             "#000011"
            ],
            [
             0.1111111111111111,
             "#000012"
            ],
            [
             0.2222222222222222,
             "#000013"
            ],
            [
             0.3333333333333333,
             "#000014"
            ],
            [
             0.4444444444444444,
             "#000015"
            ],
            [
             0.5555555555555556,
             "#000016"
            ],
            [
             0.6666666666666666,
             "#000017"
            ],
            [
             0.7777777777777778,
             "#000018"
            ],
            [
             0.8888888888888888,
             "#000019"
            ],
            [
             1,
             "#000020"
            ]
           ]
          },
          "colorway": [
           "#000001",
           "#000002",
           "#000003",
           "#000004",
           "#000005",
           "#000006",
           "#000007",
           "#000008",
           "#000009",
           "#000010"
          ]
         }
        },
        "title": {
         "text": "Eleve par Region"
        }
       }
      }
     },
     "metadata": {},
     "output_type": "display_data"
    }
   ],
   "source": [
    "custom_colors = ['#ff9999', '#66b3ff', '#99ff99', '#ffcc99', '#c2c2f0', '#ffb3e6', '#c4e17f', '#76d7c4', '#f39c12', '#34495e', '#1abc9c', '#9b59b6', '#3498db']\n",
    "fig = px.pie(data_region22, values='nombre_total_eleves', names='region_academique', hole=0.4, title='Eleve par Region', color_discrete_sequence = custom_colors)\n",
    "\n",
    "fig.show()"
   ]
  },
  {
   "cell_type": "code",
   "execution_count": 219,
   "metadata": {},
   "outputs": [
    {
     "data": {
      "application/vnd.plotly.v1+json": {
       "config": {
        "plotlyServerURL": "https://plot.ly"
       },
       "data": [
        {
         "alignmentgroup": "True",
         "hovertemplate": "region_academique=%{x}<br>nombre_total_eleves=%{y}<extra></extra>",
         "legendgroup": "",
         "marker": {
          "color": "#000001",
          "pattern": {
           "shape": ""
          }
         },
         "name": "",
         "offsetgroup": "",
         "orientation": "v",
         "showlegend": false,
         "textposition": "auto",
         "type": "bar",
         "x": [
          "AUVERGNE-ET-RHONE-ALPES",
          "BOURGOGNE-ET-FRANCHE-COMTE",
          "BRETAGNE",
          "CENTRE-VAL-DE-LOIRE",
          "CORSE",
          "GRAND-EST",
          "GUADELOUPE",
          "GUYANE",
          "HAUTS-DE-FRANCE",
          "ILE-DE-FRANCE",
          "LA-REUNION",
          "MARTINIQUE",
          "MAYOTTE",
          "NORMANDIE",
          "NOUVELLE-AQUITAINE",
          "OCCITANIE",
          "PAYS-DE-LA-LOIRE",
          "PROVENCE-ALPES-COTE-D'AZUR"
         ],
         "xaxis": "x",
         "y": [
          780266,
          240172,
          303937,
          234664,
          24693,
          489284,
          41153,
          48218,
          601114,
          1273032,
          113652,
          31423,
          60775,
          304361,
          498905,
          525178,
          367350,
          484614
         ],
         "yaxis": "y"
        }
       ],
       "layout": {
        "barmode": "relative",
        "legend": {
         "tracegroupgap": 0
        },
        "template": {
         "data": {
          "candlestick": [
           {
            "decreasing": {
             "line": {
              "color": "#000033"
             }
            },
            "increasing": {
             "line": {
              "color": "#000032"
             }
            },
            "type": "candlestick"
           }
          ],
          "contour": [
           {
            "colorscale": [
             [
              0,
              "#000011"
             ],
             [
              0.1111111111111111,
              "#000012"
             ],
             [
              0.2222222222222222,
              "#000013"
             ],
             [
              0.3333333333333333,
              "#000014"
             ],
             [
              0.4444444444444444,
              "#000015"
             ],
             [
              0.5555555555555556,
              "#000016"
             ],
             [
              0.6666666666666666,
              "#000017"
             ],
             [
              0.7777777777777778,
              "#000018"
             ],
             [
              0.8888888888888888,
              "#000019"
             ],
             [
              1,
              "#000020"
             ]
            ],
            "type": "contour"
           }
          ],
          "contourcarpet": [
           {
            "colorscale": [
             [
              0,
              "#000011"
             ],
             [
              0.1111111111111111,
              "#000012"
             ],
             [
              0.2222222222222222,
              "#000013"
             ],
             [
              0.3333333333333333,
              "#000014"
             ],
             [
              0.4444444444444444,
              "#000015"
             ],
             [
              0.5555555555555556,
              "#000016"
             ],
             [
              0.6666666666666666,
              "#000017"
             ],
             [
              0.7777777777777778,
              "#000018"
             ],
             [
              0.8888888888888888,
              "#000019"
             ],
             [
              1,
              "#000020"
             ]
            ],
            "type": "contourcarpet"
           }
          ],
          "heatmap": [
           {
            "colorscale": [
             [
              0,
              "#000011"
             ],
             [
              0.1111111111111111,
              "#000012"
             ],
             [
              0.2222222222222222,
              "#000013"
             ],
             [
              0.3333333333333333,
              "#000014"
             ],
             [
              0.4444444444444444,
              "#000015"
             ],
             [
              0.5555555555555556,
              "#000016"
             ],
             [
              0.6666666666666666,
              "#000017"
             ],
             [
              0.7777777777777778,
              "#000018"
             ],
             [
              0.8888888888888888,
              "#000019"
             ],
             [
              1,
              "#000020"
             ]
            ],
            "type": "heatmap"
           }
          ],
          "histogram2d": [
           {
            "colorscale": [
             [
              0,
              "#000011"
             ],
             [
              0.1111111111111111,
              "#000012"
             ],
             [
              0.2222222222222222,
              "#000013"
             ],
             [
              0.3333333333333333,
              "#000014"
             ],
             [
              0.4444444444444444,
              "#000015"
             ],
             [
              0.5555555555555556,
              "#000016"
             ],
             [
              0.6666666666666666,
              "#000017"
             ],
             [
              0.7777777777777778,
              "#000018"
             ],
             [
              0.8888888888888888,
              "#000019"
             ],
             [
              1,
              "#000020"
             ]
            ],
            "type": "histogram2d"
           }
          ],
          "icicle": [
           {
            "textfont": {
             "color": "white"
            },
            "type": "icicle"
           }
          ],
          "sankey": [
           {
            "textfont": {
             "color": "#000036"
            },
            "type": "sankey"
           }
          ],
          "scatter": [
           {
            "marker": {
             "line": {
              "width": 0
             }
            },
            "type": "scatter"
           }
          ],
          "table": [
           {
            "cells": {
             "fill": {
              "color": "#000038"
             },
             "font": {
              "color": "#000037"
             },
             "line": {
              "color": "#000039"
             }
            },
            "header": {
             "fill": {
              "color": "#000040"
             },
             "font": {
              "color": "#000036"
             },
             "line": {
              "color": "#000039"
             }
            },
            "type": "table"
           }
          ],
          "waterfall": [
           {
            "connector": {
             "line": {
              "color": "#000036",
              "width": 2
             }
            },
            "decreasing": {
             "marker": {
              "color": "#000033"
             }
            },
            "increasing": {
             "marker": {
              "color": "#000032"
             }
            },
            "totals": {
             "marker": {
              "color": "#000034"
             }
            },
            "type": "waterfall"
           }
          ]
         },
         "layout": {
          "coloraxis": {
           "colorscale": [
            [
             0,
             "#000011"
            ],
            [
             0.1111111111111111,
             "#000012"
            ],
            [
             0.2222222222222222,
             "#000013"
            ],
            [
             0.3333333333333333,
             "#000014"
            ],
            [
             0.4444444444444444,
             "#000015"
            ],
            [
             0.5555555555555556,
             "#000016"
            ],
            [
             0.6666666666666666,
             "#000017"
            ],
            [
             0.7777777777777778,
             "#000018"
            ],
            [
             0.8888888888888888,
             "#000019"
            ],
            [
             1,
             "#000020"
            ]
           ]
          },
          "colorscale": {
           "diverging": [
            [
             0,
             "#000021"
            ],
            [
             0.1,
             "#000022"
            ],
            [
             0.2,
             "#000023"
            ],
            [
             0.3,
             "#000024"
            ],
            [
             0.4,
             "#000025"
            ],
            [
             0.5,
             "#000026"
            ],
            [
             0.6,
             "#000027"
            ],
            [
             0.7,
             "#000028"
            ],
            [
             0.8,
             "#000029"
            ],
            [
             0.9,
             "#000030"
            ],
            [
             1,
             "#000031"
            ]
           ],
           "sequential": [
            [
             0,
             "#000011"
            ],
            [
             0.1111111111111111,
             "#000012"
            ],
            [
             0.2222222222222222,
             "#000013"
            ],
            [
             0.3333333333333333,
             "#000014"
            ],
            [
             0.4444444444444444,
             "#000015"
            ],
            [
             0.5555555555555556,
             "#000016"
            ],
            [
             0.6666666666666666,
             "#000017"
            ],
            [
             0.7777777777777778,
             "#000018"
            ],
            [
             0.8888888888888888,
             "#000019"
            ],
            [
             1,
             "#000020"
            ]
           ],
           "sequentialminus": [
            [
             0,
             "#000011"
            ],
            [
             0.1111111111111111,
             "#000012"
            ],
            [
             0.2222222222222222,
             "#000013"
            ],
            [
             0.3333333333333333,
             "#000014"
            ],
            [
             0.4444444444444444,
             "#000015"
            ],
            [
             0.5555555555555556,
             "#000016"
            ],
            [
             0.6666666666666666,
             "#000017"
            ],
            [
             0.7777777777777778,
             "#000018"
            ],
            [
             0.8888888888888888,
             "#000019"
            ],
            [
             1,
             "#000020"
            ]
           ]
          },
          "colorway": [
           "#000001",
           "#000002",
           "#000003",
           "#000004",
           "#000005",
           "#000006",
           "#000007",
           "#000008",
           "#000009",
           "#000010"
          ]
         }
        },
        "title": {
         "text": "Nombre total d'élèves par région"
        },
        "xaxis": {
         "anchor": "y",
         "domain": [
          0,
          1
         ],
         "title": {
          "text": "region_academique"
         }
        },
        "yaxis": {
         "anchor": "x",
         "domain": [
          0,
          1
         ],
         "title": {
          "text": "nombre_total_eleves"
         }
        }
       }
      }
     },
     "metadata": {},
     "output_type": "display_data"
    }
   ],
   "source": [
    "import plotly.express as px\n",
    "\n",
    "fig = px.bar(data_frame=data_region22, \n",
    "             x='region_academique', \n",
    "             y='nombre_total_eleves', \n",
    "             title='Nombre total d\\'élèves par région')\n",
    "fig.show()\n"
   ]
  }
 ],
 "metadata": {
  "kernelspec": {
   "display_name": "Python 3",
   "language": "python",
   "name": "python3"
  },
  "language_info": {
   "codemirror_mode": {
    "name": "ipython",
    "version": 3
   },
   "file_extension": ".py",
   "mimetype": "text/x-python",
   "name": "python",
   "nbconvert_exporter": "python",
   "pygments_lexer": "ipython3",
   "version": "3.10.11"
  }
 },
 "nbformat": 4,
 "nbformat_minor": 2
}
